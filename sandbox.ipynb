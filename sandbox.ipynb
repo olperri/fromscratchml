{
 "cells": [
  {
   "cell_type": "code",
   "execution_count": 1,
   "metadata": {},
   "outputs": [],
   "source": [
    "# Auto-reload magic to ease developments of modules\n",
    "%load_ext autoreload\n",
    "%autoreload 2\n",
    "%matplotlib inline"
   ]
  },
  {
   "cell_type": "code",
   "execution_count": 2,
   "metadata": {},
   "outputs": [],
   "source": [
    "import matplotlib.pyplot as plt\n",
    "import numpy as np\n",
    "\n",
    "from utils.datasets import make_linear\n",
    "from models.linear_model import ClosedFormLinearRegression, GradientDescentLinearRegression"
   ]
  },
  {
   "cell_type": "code",
   "execution_count": 3,
   "metadata": {},
   "outputs": [],
   "source": [
    "X, y, weights= make_linear(samples=50, features=3, random_seed=42)"
   ]
  },
  {
   "cell_type": "code",
   "execution_count": 4,
   "metadata": {},
   "outputs": [
    {
     "output_type": "execute_result",
     "data": {
      "text/plain": "array([12.87877587, -4.86063712, -2.7034397 , -3.68177782])"
     },
     "metadata": {},
     "execution_count": 4
    }
   ],
   "source": [
    "weights"
   ]
  },
  {
   "cell_type": "code",
   "execution_count": 5,
   "metadata": {},
   "outputs": [
    {
     "output_type": "stream",
     "name": "stdout",
     "text": "Wall time: 11.6 ms\n"
    },
    {
     "output_type": "execute_result",
     "data": {
      "text/plain": "array([13.13522167, -4.94001704, -2.68080441, -3.77224678])"
     },
     "metadata": {},
     "execution_count": 5
    }
   ],
   "source": [
    "lr_inv = ClosedFormLinearRegression(method='inverse')\n",
    "%time lr_inv.fit(X,y)\n",
    "lr_inv.weights"
   ]
  },
  {
   "cell_type": "code",
   "execution_count": 6,
   "metadata": {},
   "outputs": [
    {
     "output_type": "stream",
     "name": "stdout",
     "text": "Wall time: 3 ms\n"
    },
    {
     "output_type": "execute_result",
     "data": {
      "text/plain": "array([13.13522167, -4.94001704, -2.68080441, -3.77224678])"
     },
     "metadata": {},
     "execution_count": 6
    }
   ],
   "source": [
    "lr_pinv = ClosedFormLinearRegression(method='pseudoinverse')\n",
    "%time lr_pinv.fit(X,y)\n",
    "lr_pinv.weights"
   ]
  },
  {
   "cell_type": "code",
   "execution_count": 7,
   "metadata": {},
   "outputs": [
    {
     "output_type": "stream",
     "name": "stdout",
     "text": "Wall time: 354 ms\nc:\\Users\\OPC\\Documents\\GitHub\\fromscratchml\\models\\linear_model.py:149: UserWarning: Max numbers of iterations has been reached\n  warnings.warn(\"Max numbers of iterations has been reached\")\n"
    },
    {
     "output_type": "execute_result",
     "data": {
      "text/plain": "array([nan, nan, nan, nan])"
     },
     "metadata": {},
     "execution_count": 7
    }
   ],
   "source": [
    "#batch gradient descent not converging\n",
    "gd = GradientDescentLinearRegression(batch_size=\"full\",learning_rate=0.1)\n",
    "%time gd.fit(X,y)\n",
    "gd.weights"
   ]
  },
  {
   "cell_type": "code",
   "execution_count": 8,
   "metadata": {},
   "outputs": [
    {
     "output_type": "stream",
     "name": "stdout",
     "text": "Wall time: 19 ms\n"
    },
    {
     "output_type": "execute_result",
     "data": {
      "text/plain": "array([13.13471   , -4.94001142, -2.68081715, -3.77224059])"
     },
     "metadata": {},
     "execution_count": 8
    }
   ],
   "source": [
    "#batch gradient descent\n",
    "gd = GradientDescentLinearRegression(batch_size=\"full\",learning_rate=0.01)\n",
    "%time gd.fit(X,y)\n",
    "gd.weights"
   ]
  },
  {
   "cell_type": "code",
   "execution_count": 9,
   "metadata": {
    "tags": [
     "outputPrepend",
     "outputPrepend",
     "outputPrepend",
     "outputPrepend",
     "outputPrepend",
     "outputPrepend",
     "outputPrepend",
     "outputPrepend",
     "outputPrepend",
     "outputPrepend",
     "outputPrepend",
     "outputPrepend",
     "outputPrepend",
     "outputPrepend",
     "outputPrepend",
     "outputPrepend",
     "outputPrepend",
     "outputPrepend",
     "outputPrepend",
     "outputPrepend",
     "outputPrepend",
     "outputPrepend",
     "outputPrepend",
     "outputPrepend",
     "outputPrepend",
     "outputPrepend"
    ]
   },
   "outputs": [
    {
     "output_type": "stream",
     "name": "stdout",
     "text": "Wall time: 1.29 s\nc:\\Users\\OPC\\Documents\\GitHub\\fromscratchml\\models\\linear_model.py:149: UserWarning: Max numbers of iterations has been reached\n  warnings.warn(\"Max numbers of iterations has been reached\")\n"
    },
    {
     "output_type": "execute_result",
     "data": {
      "text/plain": "array([13.07357491, -4.97799812, -2.69123575, -3.5551437 ])"
     },
     "metadata": {},
     "execution_count": 9
    }
   ],
   "source": [
    "#stochastic gradient descent\n",
    "gd = GradientDescentLinearRegression(batch_size=1,learning_rate=0.0005)\n",
    "%time gd.fit(X,y)\n",
    "gd.weights"
   ]
  },
  {
   "cell_type": "code",
   "execution_count": 10,
   "metadata": {},
   "outputs": [
    {
     "output_type": "stream",
     "name": "stdout",
     "text": "Wall time: 1.39 s\nc:\\Users\\OPC\\Documents\\GitHub\\fromscratchml\\models\\linear_model.py:149: UserWarning: Max numbers of iterations has been reached\n  warnings.warn(\"Max numbers of iterations has been reached\")\n"
    },
    {
     "output_type": "execute_result",
     "data": {
      "text/plain": "array([13.15050351, -4.90713916, -2.69410261, -3.76353885])"
     },
     "metadata": {},
     "execution_count": 10
    }
   ],
   "source": [
    "#minibatch gradient descent v1\n",
    "gd = GradientDescentLinearRegression(batch_size=0.5,learning_rate=0.001)\n",
    "%time gd.fit(X,y)\n",
    "gd.weights"
   ]
  },
  {
   "cell_type": "code",
   "execution_count": null,
   "metadata": {},
   "outputs": [],
   "source": []
  }
 ],
 "metadata": {
  "language_info": {
   "name": "python",
   "codemirror_mode": {
    "name": "ipython",
    "version": 3
   },
   "version": "3.7.6-final"
  },
  "orig_nbformat": 2,
  "file_extension": ".py",
  "mimetype": "text/x-python",
  "name": "python",
  "npconvert_exporter": "python",
  "pygments_lexer": "ipython3",
  "version": 3,
  "kernelspec": {
   "name": "python3",
   "display_name": "Python 3"
  }
 },
 "nbformat": 4,
 "nbformat_minor": 2
}